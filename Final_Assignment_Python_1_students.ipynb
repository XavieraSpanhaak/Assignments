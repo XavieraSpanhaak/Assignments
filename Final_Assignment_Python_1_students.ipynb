{
 "cells": [
  {
   "cell_type": "markdown",
   "metadata": {},
   "source": [
    "# Final Python Assignment\n",
    "\n",
    "Use the following table to provide us with\n",
    "\n",
    "|name | student number|\n",
    "|----|----|\n",
    "|Xaviera Spanhaak| 2001252|\n",
    "|other group member's name| student number|"
   ]
  },
  {
   "cell_type": "markdown",
   "metadata": {},
   "source": [
    "# Read this carefully\n",
    "\n",
    "This is the final assignment for python. You also need to make the R part of this final assignment. \n",
    "\n",
    "With this python part of the final assignment, you can earn 4 points.\n",
    "\n",
    "This assignment needs to be uploaded June 13 (23:59 at the latest). You cannot use this assignment for the resit!\n",
    "\n",
    "After you have finished this exam, do the following:\n",
    "\n",
    "* upload your python and R files to github\n",
    "* create two links in your README file:\n",
    "\n",
    "    * one link to \"final python assignment\"\n",
    "    * one link to \"final R assignment\"\n",
    "\n",
    "* fill in the google form (see link on Blackboard) that you have uploaded your files\n",
    "* use the same student number you gave us before, otherwise we cannot retrieve your pass/fail grades\n"
   ]
  },
  {
   "cell_type": "markdown",
   "metadata": {},
   "source": [
    "# Bargaining model\n",
    "\n",
    "In the python lectures we considered a two period bargaining model. In the assignment of week 5, we extended this to a three period model.\n",
    "\n",
    "In this final assignment we are going to extend the model to $n$ periods, where $n$ is a variable.\n",
    "\n",
    "Although in the lectures and assignments we worked with plotly to make graphs, here we will use [matplotlib](https://matplotlib.org/). Hence, you need to google to see how plots are made using this library. An important aspect of using open source software is that you can figure out yourself how to use (new) things.\n",
    "\n",
    "\n",
    "# Import libraries\n",
    "\n",
    "First, we need to import some libraries:"
   ]
  },
  {
   "cell_type": "code",
   "execution_count": 111,
   "metadata": {
    "collapsed": false
   },
   "outputs": [],
   "source": [
    "import numpy as np\n",
    "import matplotlib.pyplot as plt\n",
    "%matplotlib inline\n"
   ]
  },
  {
   "cell_type": "markdown",
   "metadata": {},
   "source": [
    "**1)** [0.5 point] Use `np.arrange` to create a list of offers between 0.0 and 10.0 (including 10.0) with step 0.1:"
   ]
  },
  {
   "cell_type": "code",
   "execution_count": 117,
   "metadata": {
    "collapsed": false
   },
   "outputs": [],
   "source": [
    "min_offer = 0.0\n",
    "max_offer = 10.0\n",
    "step = 0.1\n",
    "offers = np.arange(min_offer, max_offer+0.1,0.1)"
   ]
  },
  {
   "cell_type": "markdown",
   "metadata": {},
   "source": [
    "**2)** [0.5 point] Introduce the functions `accept_offer` and `make_offer` as in the lecture:"
   ]
  },
  {
   "cell_type": "code",
   "execution_count": 118,
   "metadata": {
    "collapsed": true
   },
   "outputs": [],
   "source": [
    "def accept_offer(offer,your_outside_option):\n",
    "    accept = (offer >= your_outside_option)\n",
    "    return accept\n",
    "\n",
    "def make_offer(your_outside_option,other_outside_option):\n",
    "    profits = [(max_offer-offer)*accept_offer(offer,other_outside_option) for offer in offers]\n",
    "    max_profit = max(profits)\n",
    "    max_index = profits.index(max_profit)\n",
    "    if max_profit >= your_outside_option:\n",
    "        your_offer = offers[max_index]\n",
    "        your_profit = max_offer-offers[max_index]\n",
    "        other_profit = offers[max_index]\n",
    "    else:\n",
    "        your_offer = -1 # no offer is made\n",
    "        your_profit = your_outside_option\n",
    "        other_profit = other_outside_option\n",
    "    return your_offer, your_profit, other_profit"
   ]
  },
  {
   "cell_type": "markdown",
   "metadata": {},
   "source": [
    "**3)** [0.5 point] Initialize a dictionary `offer` as in the assignment of week 5:"
   ]
  },
  {
   "cell_type": "code",
   "execution_count": 119,
   "metadata": {
    "collapsed": false
   },
   "outputs": [],
   "source": [
    "offer = {}"
   ]
  },
  {
   "cell_type": "markdown",
   "metadata": {},
   "source": [
    "**4)** [0.5 point] Complete the following function such that it returns the payoffs to players 1 and 2 for a game of length $n$ periods when the discount factor is given by $\\delta$:"
   ]
  },
  {
   "cell_type": "code",
   "execution_count": 123,
   "metadata": {
    "collapsed": false
   },
   "outputs": [],
   "source": [
    "def outcome(n,delta):\n",
    "    offer[n+1]=[0,0,0]\n",
    "    for i in range(n):\n",
    "        offer[n-i]= make_offer(delta*offer[(n-i)+1][2], delta*offer[(n-i)+1][1])\n",
    "    return offer"
   ]
  },
  {
   "cell_type": "markdown",
   "metadata": {
    "collapsed": false
   },
   "source": [
    "**5)** [0.5 point] Check the outcomes for the case where $\\delta = 0.9$, $n=1, 2$ and $n=3$ (these are outcomes that you have seen before)."
   ]
  },
  {
   "cell_type": "code",
   "execution_count": 124,
   "metadata": {
    "collapsed": false
   },
   "outputs": [
    {
     "name": "stdout",
     "output_type": "stream",
     "text": [
      "{4: [0, 0, 0], 3: (0.0, 10.0, 0.0), 2: (9.0, 1.0, 9.0), 1: (0.90000000000000002, 9.0999999999999996, 0.90000000000000002)}\n",
      "{4: [0, 0, 0], 3: [0, 0, 0], 2: (0.0, 10.0, 0.0), 1: (9.0, 1.0, 9.0)}\n",
      "{4: [0, 0, 0], 3: [0, 0, 0], 2: [0, 0, 0], 1: (0.0, 10.0, 0.0)}\n"
     ]
    }
   ],
   "source": [
    "delta = 0.9\n",
    "print(outcome(3,0.9))\n",
    "print(outcome(2,0.9))\n",
    "print(outcome(1,0.9))"
   ]
  },
  {
   "cell_type": "markdown",
   "metadata": {},
   "source": [
    "**6)** [1 point] *Using matplotlib* plot for the case with $\\delta =0.9$, the payoff for player 1 of a game that lasts for 1 round, a game that lasts for 2 rounds, up till a game that lasts 30 rounds. On the horizontal axis, we have the length of the game $n$; on the vertical axis the payoff to player 1."
   ]
  },
  {
   "cell_type": "code",
   "execution_count": 125,
   "metadata": {
    "collapsed": false
   },
   "outputs": [
    {
     "data": {
      "text/plain": [
       "(0, 10)"
      ]
     },
     "execution_count": 125,
     "metadata": {},
     "output_type": "execute_result"
    },
    {
     "data": {
      "image/png": "[encoded data removed]",
      "text/plain": [
       "<matplotlib.figure.Figure at 0x157658960b8>"
      ]
     },
     "metadata": {},
     "output_type": "display_data"
    }
   ],
   "source": [
    "n=30\n",
    "delta = 0.9\n",
    "range_n = np.arange(1,n+1,1)\n",
    "payoffplayer1 =[]\n",
    "for i in range_n:\n",
    "    payoffplayer1.append(outcome(i,delta)[1][1])\n",
    "    \n",
    "plt.plot(range_n, payoffplayer1)\n",
    "plt.xlabel(\"lenght of the game\")\n",
    "plt.ylabel(\"payoff player 1\")\n",
    "plt.xlim(0,30)\n",
    "plt.ylim(0,10)"
   ]
  },
  {
   "cell_type": "markdown",
   "metadata": {},
   "source": [
    "**7)** [0.5 point] What pattern do you see in the graph? What is the intuition/explanation for this? [hint: if you cannot plot the outcome with matplotlib, you can still answer this question; e.g. simply by looking at the outcomes for different values of $n$]"
   ]
  },
  {
   "cell_type": "code",
   "execution_count": 128,
   "metadata": {
    "collapsed": false
   },
   "outputs": [
    {
     "ename": "SyntaxError",
     "evalue": "invalid syntax (<ipython-input-128-5a8a58181cc9>, line 1)",
     "output_type": "error",
     "traceback": [
      "\u001b[0;36m  File \u001b[0;32m\"<ipython-input-128-5a8a58181cc9>\"\u001b[0;36m, line \u001b[0;32m1\u001b[0m\n\u001b[0;31m    The graph has a zigzag pattern. If player 1 offers a small amount in the first round, player 2 would not accept it.\u001b[0m\n\u001b[0m            ^\u001b[0m\n\u001b[0;31mSyntaxError\u001b[0m\u001b[0;31m:\u001b[0m invalid syntax\n"
     ]
    }
   ],
   "source": [
    "The graph has a zigzag pattern. If player 1 offers a small amount in the first round, player 2 will not accept it. \n",
    "If player 2 does not accept the offer, he will continue untill the offer is accepted. Player 1 is forced to make bigger\n",
    "offers each time, this will diminish player 1's payoff. The payoff for period n will be 5. "
   ]
  },
  {
   "cell_type": "code",
   "execution_count": null,
   "metadata": {
    "collapsed": true
   },
   "outputs": [],
   "source": []
  }
 ],
 "metadata": {
  "anaconda-cloud": {},
  "kernelspec": {
   "display_name": "Python 3",
   "language": "python",
   "name": "python3"
  },
  "language_info": {
   "codemirror_mode": {
    "name": "ipython",
    "version": 3
   },
   "file_extension": ".py",
   "mimetype": "text/x-python",
   "name": "python",
   "nbconvert_exporter": "python",
   "pygments_lexer": "ipython3",
   "version": "3.6.0"
  }
 },
 "nbformat": 4,
 "nbformat_minor": 0
}
