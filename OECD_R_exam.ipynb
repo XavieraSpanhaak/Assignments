{
 "cells": [
  {
   "cell_type": "markdown",
   "metadata": {},
   "source": [
    "# Exam\n",
    "\n",
    "In this exam, we will work with the \"frequently requested health data” from the OECD.\n",
    "Your task is to compute a simple “efficiency score” and make three plots. \n",
    "\n",
    "\n",
    "You will earn a higher grade if you provide nicer graphs.  \n"
   ]
  },
  {
   "cell_type": "markdown",
   "metadata": {},
   "source": [
    "Now you need to call the libaries\n",
    "\n",
    "* ggplot2\n",
    "* dplyr\n",
    "\n"
   ]
  },
  {
   "cell_type": "code",
   "execution_count": 83,
   "metadata": {
    "collapsed": false
   },
   "outputs": [],
   "source": [
    "library(ggplot2)\n",
    "library(dplyr)"
   ]
  },
  {
   "cell_type": "markdown",
   "metadata": {},
   "source": [
    "Now you have to read the de data that we have cleaned during tutorial 3. The csv file is called oecddata.csv"
   ]
  },
  {
   "cell_type": "code",
   "execution_count": 88,
   "metadata": {
    "collapsed": false
   },
   "outputs": [
    {
     "name": "stdout",
     "output_type": "stream",
     "text": [
      "      X         Country Year      Cost   LE\n",
      "1     1       Australia 2005 2842.1321 80.9\n",
      "2     2       Australia 2006 3023.0978 81.1\n",
      "3     3       Australia 2007 3196.2260 81.4\n",
      "4     4       Australia 2008 3310.1708 81.5\n",
      "5     5       Australia 2009 3564.4049 81.6\n",
      "6     6       Australia 2010 3607.3407 81.8\n",
      "7     7       Australia 2011 3794.0874 82.0\n",
      "8     8       Australia 2012 3807.6819 82.1\n",
      "9     9       Australia 2013 4176.8530 82.2\n",
      "10   10       Australia 2014 4206.8516 82.4\n",
      "11   11       Australia 2015 4420.4364   NA\n",
      "12   12         Austria 2005 3324.0795 79.4\n",
      "13   13         Austria 2006 3567.6495 80.0\n",
      "14   14         Austria 2007 3718.7390 80.3\n",
      "15   15         Austria 2008 3964.8495 80.5\n",
      "16   16         Austria 2009 4119.7452 80.4\n",
      "17   17         Austria 2010 4236.3164 80.7\n",
      "18   18         Austria 2011 4362.3426 81.1\n",
      "19   19         Austria 2012 4646.4365 81.0\n",
      "20   20         Austria 2013 4806.3934 81.2\n",
      "21   21         Austria 2014 4895.9992 81.6\n",
      "22   22         Austria 2015 5015.6372   NA\n",
      "23   23         Belgium 2005 2985.8089 79.1\n",
      "24   24         Belgium 2006 3136.9155 79.5\n",
      "25   25         Belgium 2007 3286.2254 79.9\n",
      "26   26         Belgium 2008 3542.3542 79.8\n",
      "27   27         Belgium 2009 3804.7643 80.1\n",
      "28   28         Belgium 2010 3901.9126 80.3\n",
      "29   29         Belgium 2011 4132.3109 80.7\n",
      "30   30         Belgium 2012 4286.4123 80.5\n",
      "31   31         Belgium 2013 4485.4804 80.7\n",
      "32   32         Belgium 2014 4522.0450 81.4\n",
      "33   33         Belgium 2015 4611.2518   NA\n",
      "34   34          Canada 2005 3282.4541 80.1\n",
      "35   35          Canada 2006 3505.0061 80.4\n",
      "36   36          Canada 2007 3675.4766 80.5\n",
      "37   37          Canada 2008 3822.6386 80.7\n",
      "38   38          Canada 2009 4108.7578 80.9\n",
      "39   39          Canada 2010 4242.3395 81.2\n",
      "40   40          Canada 2011 4263.4169 81.5\n",
      "41   41          Canada 2012 4319.9434   NA\n",
      "42   42          Canada 2013 4502.7427   NA\n",
      "43   43          Canada 2014 4491.7648   NA\n",
      "44   44          Canada 2015 4608.4522   NA\n",
      "45   45           Chile 2005  837.7758 77.6\n",
      "46   46           Chile 2006  936.2072 78.0\n",
      "47   47           Chile 2007 1031.0343 77.5\n",
      "48   48           Chile 2008 1097.2873 78.1\n",
      "49   49           Chile 2009 1150.0554 78.2\n",
      "50   50           Chile 2010 1219.6509 78.0\n",
      "51   51           Chile 2011 1358.1965 78.7\n",
      "52   52           Chile 2012 1485.3190 78.7\n",
      "53   53           Chile 2013 1558.4465 78.8\n",
      "54   54           Chile 2014 1688.5233 79.0\n",
      "55   55           Chile 2015 1728.2484   NA\n",
      "56   56  Czech Republic 2005 1425.1388 76.1\n",
      "57   57  Czech Republic 2006 1514.1975 76.7\n",
      "58   58  Czech Republic 2007 1608.5877 77.0\n",
      "59   59  Czech Republic 2008 1727.9885 77.3\n",
      "60   60  Czech Republic 2009 1974.0369 77.4\n",
      "61   61  Czech Republic 2010 1879.5815 77.7\n",
      "62   62  Czech Republic 2011 2001.2635 78.0\n",
      "63   63  Czech Republic 2012 2028.2657 78.2\n",
      "64   64  Czech Republic 2013 2330.4702 78.3\n",
      "65   65  Czech Republic 2014 2386.3385 78.9\n",
      "66   66  Czech Republic 2015 2463.6704   NA\n",
      "67   67         Denmark 2005 3096.9831 78.3\n",
      "68   68         Denmark 2006 3406.8102 78.4\n",
      "69   69         Denmark 2007 3605.2153 78.4\n",
      "70   70         Denmark 2008 3892.7375 78.8\n",
      "71   71         Denmark 2009 4247.8819 79.0\n",
      "72   72         Denmark 2010 4370.3331 79.3\n",
      "73   73         Denmark 2011 4430.6885 79.9\n",
      "74   74         Denmark 2012 4544.8568 80.1\n",
      "75   75         Denmark 2013 4708.1321 80.4\n",
      "76   76         Denmark 2014 4857.0285 80.8\n",
      "77   77         Denmark 2015 4942.8001   NA\n",
      "78   78         Estonia 2005  820.7244 72.9\n",
      "79   79         Estonia 2006  949.1905 73.1\n",
      "80   80         Estonia 2007 1098.0087 73.2\n",
      "81   81         Estonia 2008 1284.4079 74.2\n",
      "82   82         Estonia 2009 1319.5699 75.2\n",
      "83   83         Estonia 2010 1334.1851 75.9\n",
      "84   84         Estonia 2011 1392.1765 76.4\n",
      "85   85         Estonia 2012 1502.9345 76.5\n",
      "86   86         Estonia 2013 1623.1936 77.3\n",
      "87   87         Estonia 2014 1724.5100 77.2\n",
      "88   88         Estonia 2015 1824.4642   NA\n",
      "89   89         Finland 2005 2571.3738 79.1\n",
      "90   90         Finland 2006 2768.6527 79.5\n",
      "91   91         Finland 2007 2941.9571 79.6\n",
      "92   92         Finland 2008 3218.1337 79.9\n",
      "93   93         Finland 2009 3336.3316 80.1\n",
      "94   94         Finland 2010 3403.1108 80.2\n",
      "95   95         Finland 2011 3605.8070 80.6\n",
      "96   96         Finland 2012 3758.9973 80.7\n",
      "97   97         Finland 2013 3890.7877 81.1\n",
      "98   98         Finland 2014 3870.4000 81.3\n",
      "99   99         Finland 2015 3983.5431   NA\n",
      "100 100          France 2005 3100.9237 80.3\n",
      "101 101          France 2006 3253.9671 80.9\n",
      "102 102          France 2007 3407.1091 81.2\n",
      "103 103          France 2008 3562.5456 81.3\n",
      "104 104          France 2009 3774.2044 81.5\n",
      "105 105          France 2010 3859.5252 81.8\n",
      "106 106          France 2011 4010.3139 82.2\n",
      "107 107          France 2012 4062.9108 82.1\n",
      "108 108          France 2013 4292.1762 82.3\n",
      "109 109          France 2014 4366.9864 82.8\n",
      "110 110          France 2015 4407.2035   NA\n",
      "111 111         Germany 2005 3297.0591 79.4\n",
      "112 112         Germany 2006 3502.6909 79.8\n",
      "113 113         Germany 2007 3660.9349 80.1\n",
      "114 114         Germany 2008 3901.4180 80.2\n",
      "115 115         Germany 2009 4130.7969 80.3\n",
      "116 116         Germany 2010 4358.6128 80.5\n",
      "117 117         Germany 2011 4510.1751 80.8\n",
      "118 118         Germany 2012 4694.6810 81.0\n",
      "119 119         Germany 2013 4921.8139 80.9\n",
      "120 120         Germany 2014 5119.2146 81.2\n",
      "121 121         Germany 2015 5267.1379   NA\n",
      "122 122          Greece 2005 2284.7933 79.7\n",
      "123 123          Greece 2006 2534.7392 79.9\n",
      "124 124          Greece 2007 2655.2171 79.7\n",
      "125 125          Greece 2008 3040.9909 80.3\n",
      "126 126          Greece 2009 2990.8342 80.4\n",
      "127 127          Greece 2010 2855.3382 80.7\n",
      "128 128          Greece 2011 2520.6318 80.8\n",
      "129 129          Greece 2012 2324.2907 80.7\n",
      "130 130          Greece 2013 2339.7827 81.4\n",
      "131 131          Greece 2014 2220.1065 81.5\n",
      "132 132          Greece 2015 2245.3746   NA\n",
      "133 133         Hungary 2005 1390.8337 73.0\n",
      "134 134         Hungary 2006 1463.2271 73.5\n",
      "135 135         Hungary 2007 1404.1231 73.6\n",
      "136 136         Hungary 2008 1486.7085 74.2\n",
      "137 137         Hungary 2009 1521.6310 74.4\n",
      "138 138         Hungary 2010 1632.9071 74.7\n",
      "139 139         Hungary 2011 1715.3205 75.0\n",
      "140 140         Hungary 2012 1703.9905 75.2\n",
      "141 141         Hungary 2013 1755.5419 75.7\n",
      "142 142         Hungary 2014 1796.6034 75.9\n",
      "143 143         Hungary 2015 1845.3673   NA\n",
      "144 144         Iceland 2005 3294.4734 81.6\n",
      "145 145         Iceland 2006 3276.3176 81.2\n",
      "146 146         Iceland 2007 3375.6701 81.5\n",
      "147 147         Iceland 2008 3628.0346 81.7\n",
      "148 148         Iceland 2009 3624.4513 81.8\n",
      "149 149         Iceland 2010 3405.9865 82.0\n",
      "150 150         Iceland 2011 3420.6305 82.4\n",
      "151 151         Iceland 2012 3506.4164 83.0\n",
      "152 152         Iceland 2013 3739.4503 82.1\n",
      "153 153         Iceland 2014 3896.9251 82.9\n",
      "154 154         Iceland 2015 4011.9968   NA\n",
      "155 155         Ireland 2005 3097.1122 79.0\n",
      "156 156         Ireland 2006 3304.4115 79.3\n",
      "157 157         Ireland 2007 3649.2954 79.7\n",
      "158 158         Ireland 2008 4000.7079 80.2\n",
      "159 159         Ireland 2009 4407.7990 80.3\n",
      "160 160         Ireland 2010 4585.4044 80.8\n",
      "161 161         Ireland 2011 4514.9774 80.8\n",
      "162 162         Ireland 2012 4658.2840 81.0\n",
      "163 163         Ireland 2013 4980.3999 81.1\n",
      "164 164         Ireland 2014 5001.3220 81.4\n",
      "165 165         Ireland 2015 5130.6825   NA\n",
      "166 166          Israel 2005 1768.9521 80.2\n",
      "167 167          Israel 2006 1783.7368 80.6\n",
      "168 168          Israel 2007 1899.5578 80.6\n",
      "169 169          Israel 2008 1917.6632 81.0\n",
      "170 170          Israel 2009 1942.7830 81.5\n",
      "171 171          Israel 2010 2025.5808 81.7\n",
      "172 172          Israel 2011 2139.2641 81.7\n",
      "173 173          Israel 2012 2273.3898 81.8\n",
      "174 174          Israel 2013 2473.2848 82.1\n",
      "175 175          Israel 2014 2547.4010 82.2\n",
      "176 176          Israel 2015 2532.5132   NA\n",
      "177 177           Italy 2005 2479.3278 80.9\n",
      "178 178           Italy 2006 2703.1626 81.4\n",
      "179 179           Italy 2007 2751.8517 81.5\n",
      "180 180           Italy 2008 3011.2728 81.6\n",
      "181 181           Italy 2009 3064.7996 81.7\n",
      "182 182           Italy 2010 3108.2039 82.1\n",
      "183 183           Italy 2011 3169.0494 82.3\n",
      "184 184           Italy 2012 3174.2610 82.3\n",
      "185 185           Italy 2013 3141.8651 82.8\n",
      "186 186           Italy 2014 3206.8286 83.2\n",
      "187 187           Italy 2015 3272.2533   NA\n",
      "188 188           Japan 2005 2463.7249 82.0\n",
      "189 189           Japan 2006 2580.1459 82.4\n",
      "190 190           Japan 2007 2723.8322 82.6\n",
      "191 191           Japan 2008 2852.8629 82.7\n",
      "192 192           Japan 2009 2998.5676 83.0\n",
      "193 193           Japan 2010 3204.9489 82.9\n",
      "194 194           Japan 2011 3799.1178 82.7\n",
      "195 195           Japan 2012 4016.7772 83.2\n",
      "196 196           Japan 2013 4151.7546 83.4\n",
      "197 197           Japan 2014 4152.3727 83.7\n",
      "198 198           Japan 2015 4149.7650   NA\n",
      "199 199           Korea 2005 1220.0809 78.5\n",
      "200 200           Korea 2006 1406.6213 79.1\n",
      "201 201           Korea 2007 1566.6353 79.4\n",
      "202 202           Korea 2008 1662.9686 79.9\n",
      "203 203           Korea 2009 1791.2895 80.4\n",
      "204 204           Korea 2010 1951.3258 80.6\n",
      "205 205           Korea 2011 2029.6636 81.0\n",
      "206 206           Korea 2012 2131.9334 81.3\n",
      "207 207           Korea 2013 2224.6293 81.8\n",
      "208 208           Korea 2014 2361.4400 82.2\n",
      "209 209           Korea 2015 2487.9385   NA\n",
      "210 210          Latvia 2005  828.3765 70.6\n",
      "211 211          Latvia 2006  954.2433 70.6\n",
      "212 212          Latvia 2007 1099.1831 70.8\n",
      "213 213          Latvia 2008 1119.7091 72.0\n",
      "214 214          Latvia 2009 1049.1766 72.6\n",
      "215 215          Latvia 2010 1071.4247 73.0\n",
      "216 216          Latvia 2011 1086.9471 73.7\n",
      "217 217          Latvia 2012 1148.7918 73.9\n",
      "218 218          Latvia 2013 1219.4164 74.1\n",
      "219 219          Latvia 2014 1295.0128 74.3\n",
      "220 220          Latvia 2015 1369.9330   NA\n",
      "221 221      Luxembourg 2005 5090.3667 79.5\n",
      "222 222      Luxembourg 2006 5512.8935 79.4\n",
      "223 223      Luxembourg 2007 5500.6005 79.5\n",
      "224 224      Luxembourg 2008 5938.8079 80.6\n",
      "225 225      Luxembourg 2009 6355.5453 80.7\n",
      "226 226      Luxembourg 2010 6401.8972 80.7\n",
      "227 227      Luxembourg 2011 6040.5910 81.1\n",
      "228 228      Luxembourg 2012 6423.1651 81.5\n",
      "229 229      Luxembourg 2013 6629.0284 81.9\n",
      "230 230      Luxembourg 2014 6682.2370 82.3\n",
      "231 231      Luxembourg 2015 7764.8684   NA\n",
      "232 232          Mexico 2005  730.8158 74.0\n",
      "233 233          Mexico 2006  771.7252 74.1\n",
      "234 234          Mexico 2007  822.3672 74.2\n",
      "235 235          Mexico 2008  846.8494 74.1\n",
      "236 236          Mexico 2009  889.1632 74.0\n",
      "237 237          Mexico 2010  911.3509 74.1\n",
      "238 238          Mexico 2011  942.4717 74.2\n",
      "239 239          Mexico 2012 1005.8945 74.4\n",
      "240 240          Mexico 2013 1021.2599 74.6\n",
      "241 241          Mexico 2014 1035.3389 74.8\n",
      "242 242          Mexico 2015 1052.0705 75.0\n",
      "243 243     Netherlands 2005 3510.9048 79.5\n",
      "244 244     Netherlands 2006 3797.2679 79.9\n",
      "245 245     Netherlands 2007 4066.1338 80.3\n",
      "246 246     Netherlands 2008 4398.2743 80.5\n",
      "247 247     Netherlands 2009 4550.4651 80.8\n",
      "248 248     Netherlands 2010 4671.0098 81.0\n",
      "249 249     Netherlands 2011 4862.4590 81.3\n",
      "250 250     Netherlands 2012 5044.2654 81.2\n",
      "251 251     Netherlands 2013 5250.3058 81.4\n",
      "252 252     Netherlands 2014 5276.6003 81.8\n",
      "253 253     Netherlands 2015 5342.6744   NA\n",
      "254 254     New Zealand 2005 2124.3824 79.8\n",
      "255 255     New Zealand 2006 2394.4802 80.1\n",
      "256 256     New Zealand 2007 2444.5154 80.3\n",
      "257 257     New Zealand 2008 2729.9600 80.5\n",
      "258 258     New Zealand 2009 2970.2107 80.7\n",
      "259 259     New Zealand 2010 3020.3961 80.8\n",
      "260 260     New Zealand 2011 3130.8058 81.0\n",
      "261 261     New Zealand 2012 3199.4632 81.2\n",
      "262 262     New Zealand 2013 3486.4330 81.4\n",
      "263 263     New Zealand 2014 3537.2568 81.6\n",
      "264 264     New Zealand 2015 3590.1685   NA\n",
      "265 265          Norway 2005 4029.4379 80.3\n",
      "266 266          Norway 2006 4329.4071 80.6\n",
      "267 267          Norway 2007 4578.0888 80.6\n",
      "268 268          Norway 2008 4973.2861 80.8\n",
      "269 269          Norway 2009 5094.2532 81.0\n",
      "270 270          Norway 2010 5240.4165 81.2\n",
      "271 271          Norway 2011 5515.1289 81.4\n",
      "272 272          Norway 2012 5738.4827 81.5\n",
      "273 273          Norway 2013 5966.6373 81.8\n",
      "274 274          Norway 2014 6080.9980 82.2\n",
      "275 275          Norway 2015 6567.0315   NA\n",
      "276 276          Poland 2005  806.3174 75.1\n",
      "277 277          Poland 2006  882.2359 75.3\n",
      "278 278          Poland 2007  992.6475 75.4\n",
      "279 279          Poland 2008 1158.0342 75.7\n",
      "280 280          Poland 2009 1270.2808 75.9\n",
      "281 281          Poland 2010 1340.7184 76.5\n",
      "282 282          Poland 2011 1404.1005 76.8\n",
      "283 283          Poland 2012 1463.7480 76.9\n",
      "284 284          Poland 2013 1580.3710 77.1\n",
      "285 285          Poland 2014 1624.8655 77.7\n",
      "286 286          Poland 2015 1676.6774   NA\n",
      "287 287        Portugal 2005 2082.2039 78.2\n",
      "288 288        Portugal 2006 2181.0053 79.0\n",
      "289 289        Portugal 2007 2286.5402 79.2\n",
      "290 290        Portugal 2008 2440.6110 79.5\n",
      "291 291        Portugal 2009 2589.1595 79.7\n",
      "292 292        Portugal 2010 2645.6631 80.0\n",
      "293 293        Portugal 2011 2566.9707 80.6\n",
      "294 294        Portugal 2012 2535.7284 80.5\n",
      "295 295        Portugal 2013 2538.7046 80.8\n",
      "296 296        Portugal 2014 2583.8438 81.2\n",
      "297 297        Portugal 2015 2631.3498   NA\n",
      "298 298 Slovak Republic 2005 1093.9081 74.2\n",
      "299 299 Slovak Republic 2006 1294.5212 74.4\n",
      "300 300 Slovak Republic 2007 1545.5981 74.5\n",
      "301 301 Slovak Republic 2008 1665.2449 75.0\n",
      "302 302 Slovak Republic 2009 1849.6847 75.3\n",
      "303 303 Slovak Republic 2010 1917.8972 75.6\n",
      "304 304 Slovak Republic 2011 1871.8732 76.1\n",
      "305 305 Slovak Republic 2012 1999.5644 76.2\n",
      "306 306 Slovak Republic 2013 2073.0478 76.5\n",
      "307 307 Slovak Republic 2014 1970.5230 76.9\n",
      "308 308 Slovak Republic 2015 2063.7541   NA\n",
      "309 309        Slovenia 2005 1902.6718 77.4\n",
      "310 310        Slovenia 2006 2018.3504 78.3\n",
      "311 311        Slovenia 2007 2074.3104 78.3\n",
      "312 312        Slovenia 2008 2323.2728 79.1\n",
      "313 313        Slovenia 2009 2355.0227 79.3\n",
      "314 314        Slovenia 2010 2363.6692 79.8\n",
      "315 315        Slovenia 2011 2435.0835 80.1\n",
      "316 316        Slovenia 2012 2486.6141 80.2\n",
      "317 317        Slovenia 2013 2548.6819 80.4\n",
      "318 318        Slovenia 2014 2598.9066 81.2\n",
      "319 319        Slovenia 2015 2643.8457   NA\n",
      "320 320           Spain 2005 2139.3333 80.3\n",
      "321 321           Spain 2006 2393.3068 81.1\n",
      "322 322           Spain 2007 2570.7060 81.2\n",
      "323 323           Spain 2008 2795.8694 81.5\n",
      "324 324           Spain 2009 2944.6196 81.9\n",
      "325 325           Spain 2010 2917.9495 82.4\n",
      "326 326           Spain 2011 2956.7857 82.6\n",
      "327 327           Spain 2012 2929.3567 82.5\n",
      "328 328           Spain 2013 2952.1750 83.2\n",
      "329 329           Spain 2014 3053.0745 83.3\n",
      "330 330           Spain 2015 3152.9869   NA\n",
      "331 331          Sweden 2005 2841.8221 80.7\n",
      "332 332          Sweden 2006 3066.2039 81.0\n",
      "333 333          Sweden 2007 3274.8490 81.1\n",
      "334 334          Sweden 2008 3481.5901 81.3\n",
      "335 335          Sweden 2009 3547.1337 81.5\n",
      "336 336          Sweden 2010 3543.5822 81.6\n",
      "337 337          Sweden 2011 4667.6964 81.9\n",
      "338 338          Sweden 2012 4860.2524 81.8\n",
      "339 339          Sweden 2013 5003.1323 82.0\n",
      "340 340          Sweden 2014 5065.1613 82.3\n",
      "341 341          Sweden 2015 5227.8349   NA\n",
      "342 342     Switzerland 2005 4015.3331 81.4\n",
      "343 343     Switzerland 2006 4251.3673 81.7\n",
      "344 344     Switzerland 2007 4567.3285 82.0\n",
      "345 345     Switzerland 2008 4933.1000 82.2\n",
      "346 346     Switzerland 2009 5183.9520 82.3\n",
      "347 347     Switzerland 2010 5371.4504 82.6\n",
      "348 348     Switzerland 2011 5787.6672 82.8\n",
      "349 349     Switzerland 2012 6288.6475 82.8\n",
      "350 350     Switzerland 2013 6635.2769 82.9\n",
      "351 351     Switzerland 2014 6786.5657 83.3\n",
      "352 352     Switzerland 2015 6934.6782   NA\n",
      "353 353          Turkey 2005  585.6594 73.1\n",
      "354 354          Turkey 2006  697.3519 73.4\n",
      "355 355          Turkey 2007  766.8245 73.7\n",
      "356 356          Turkey 2008  827.3149 73.9\n",
      "357 357          Turkey 2009  841.2871 74.1\n",
      "358 358          Turkey 2010  852.6704 74.3\n",
      "359 359          Turkey 2011  887.9525 74.6\n",
      "360 360          Turkey 2012  911.2930 74.6\n",
      "361 361          Turkey 2013  969.3608 78.0\n",
      "362 362          Turkey 2014  990.1908 78.0\n",
      "363 363          Turkey 2015 1063.5506   NA\n",
      "364 364  United Kingdom 2005 2568.4680 79.2\n",
      "365 365  United Kingdom 2006 2784.4890 79.5\n",
      "366 366  United Kingdom 2007 2862.4300 79.7\n",
      "367 367  United Kingdom 2008 2971.1540 79.8\n",
      "368 368  United Kingdom 2009 3150.2390 80.4\n",
      "369 369  United Kingdom 2010 3036.1200 80.6\n",
      "370 370  United Kingdom 2011 3087.3060 81.0\n",
      "371 371  United Kingdom 2012 3191.9360 81.0\n",
      "372 372  United Kingdom 2013 3881.0900 81.1\n",
      "373 373  United Kingdom 2014 3971.3940 81.4\n",
      "374 374  United Kingdom 2015 4003.0024   NA\n",
      "375 375   United States 2005 6445.7053 77.4\n",
      "376 376   United States 2006 6809.4762 77.7\n",
      "377 377   United States 2007 7163.1718 77.9\n",
      "378 378   United States 2008 7414.0435 78.1\n",
      "379 379   United States 2009 7684.7611 78.5\n",
      "380 380   United States 2010 7929.3720 78.6\n",
      "381 381   United States 2011 8171.0784 78.7\n",
      "382 382   United States 2012 8422.9900 78.8\n",
      "383 383   United States 2013 8617.4287 78.8\n",
      "384 384   United States 2014 9024.2064 78.8\n",
      "385 385   United States 2015 9451.3423   NA\n"
     ]
    }
   ],
   "source": [
    "oecd<-read.csv2(\"oecddata.csv\")\n",
    "print(oecd)"
   ]
  },
  {
   "cell_type": "markdown",
   "metadata": {},
   "source": [
    "To see how the data look like, use the command:\n",
    "\n",
    "head(oecd)\n",
    "\n",
    "With the command\n",
    "\n",
    "oecd\n",
    "\n",
    "\n",
    "You can see the dataset in total."
   ]
  },
  {
   "cell_type": "code",
   "execution_count": 85,
   "metadata": {
    "collapsed": false
   },
   "outputs": [
    {
     "data": {
      "text/html": [
       "<table>\n",
       "<thead><tr><th scope=col>X</th><th scope=col>Country</th><th scope=col>Year</th><th scope=col>Cost</th><th scope=col>LE</th></tr></thead>\n",
       "<tbody>\n",
       "\t<tr><td>1        </td><td>Australia</td><td>2005     </td><td>2842.132 </td><td>80.9     </td></tr>\n",
       "\t<tr><td>2        </td><td>Australia</td><td>2006     </td><td>3023.098 </td><td>81.1     </td></tr>\n",
       "\t<tr><td>3        </td><td>Australia</td><td>2007     </td><td>3196.226 </td><td>81.4     </td></tr>\n",
       "\t<tr><td>4        </td><td>Australia</td><td>2008     </td><td>3310.171 </td><td>81.5     </td></tr>\n",
       "\t<tr><td>5        </td><td>Australia</td><td>2009     </td><td>3564.405 </td><td>81.6     </td></tr>\n",
       "\t<tr><td>6        </td><td>Australia</td><td>2010     </td><td>3607.341 </td><td>81.8     </td></tr>\n",
       "</tbody>\n",
       "</table>\n"
      ],
      "text/latex": [
       "\\begin{tabular}{r|lllll}\n",
       " X & Country & Year & Cost & LE\\\\\n",
       "\\hline\n",
       "\t 1         & Australia & 2005      & 2842.132  & 80.9     \\\\\n",
       "\t 2         & Australia & 2006      & 3023.098  & 81.1     \\\\\n",
       "\t 3         & Australia & 2007      & 3196.226  & 81.4     \\\\\n",
       "\t 4         & Australia & 2008      & 3310.171  & 81.5     \\\\\n",
       "\t 5         & Australia & 2009      & 3564.405  & 81.6     \\\\\n",
       "\t 6         & Australia & 2010      & 3607.341  & 81.8     \\\\\n",
       "\\end{tabular}\n"
      ],
      "text/markdown": [
       "\n",
       "X | Country | Year | Cost | LE | \n",
       "|---|---|---|---|---|---|\n",
       "| 1         | Australia | 2005      | 2842.132  | 80.9      | \n",
       "| 2         | Australia | 2006      | 3023.098  | 81.1      | \n",
       "| 3         | Australia | 2007      | 3196.226  | 81.4      | \n",
       "| 4         | Australia | 2008      | 3310.171  | 81.5      | \n",
       "| 5         | Australia | 2009      | 3564.405  | 81.6      | \n",
       "| 6         | Australia | 2010      | 3607.341  | 81.8      | \n",
       "\n",
       "\n"
      ],
      "text/plain": [
       "  X Country   Year Cost     LE  \n",
       "1 1 Australia 2005 2842.132 80.9\n",
       "2 2 Australia 2006 3023.098 81.1\n",
       "3 3 Australia 2007 3196.226 81.4\n",
       "4 4 Australia 2008 3310.171 81.5\n",
       "5 5 Australia 2009 3564.405 81.6\n",
       "6 6 Australia 2010 3607.341 81.8"
      ]
     },
     "metadata": {},
     "output_type": "display_data"
    }
   ],
   "source": [
    "head(oecd)"
   ]
  },
  {
   "cell_type": "markdown",
   "metadata": {},
   "source": [
    "## Graphs"
   ]
  },
  {
   "cell_type": "markdown",
   "metadata": {},
   "source": [
    "To make the graphs we need to make selections of the data. Please use \"dplyr\" (commands \"select\" and \"filter\") and the \"pipe\". The first assignment is to make a scatterplot using \"ggplot\". The graph contains data for all countries for the year 2014. Therefore make a dataframe with dplyr first, called \"graph1\" with the required data.\n",
    "Then, make a scatterplot with \"Cost\" on the x-axis and \"LE\" on the y-axis. You have to add a regression line with a shaded area for the confidence interval."
   ]
  },
  {
   "cell_type": "code",
   "execution_count": 86,
   "metadata": {
    "collapsed": false
   },
   "outputs": [
    {
     "name": "stderr",
     "output_type": "stream",
     "text": [
      "Warning message:\n",
      "\"Removed 1 rows containing non-finite values (stat_smooth).\"Warning message:\n",
      "\"Removed 1 rows containing missing values (geom_point).\""
     ]
    },
    {
     "data": {},
     "metadata": {},
     "output_type": "display_data"
    },
    {
     "data": {
      "image/png": "[encoded data removed]",
      "text/plain": [
       "plot without title"
      ]
     },
     "metadata": {},
     "output_type": "display_data"
    }
   ],
   "source": [
    "graph1 <- oecd %>%filter(Year==2014)\n",
    "ggplot(graph1, aes(x=Cost, y=LE))+geom_point() +geom_smooth(method=lm)"
   ]
  },
  {
   "cell_type": "markdown",
   "metadata": {},
   "source": [
    "The second assignment is to make a line graph. You will use the years 2005-2015 for 5 countries (you can choose your own countries). Make a new dataframe called graph2 with the required data. Then, make a line graph with \"Year\"  and \"Cost\" on the y-axis. There should be coloured lines per country and a legend attached. "
   ]
  },
  {
   "cell_type": "code",
   "execution_count": 80,
   "metadata": {
    "collapsed": false
   },
   "outputs": [
    {
     "data": {},
     "metadata": {},
     "output_type": "display_data"
    },
    {
     "data": {
      "image/png": "[encoded data removed]",
      "text/plain": [
       "plot without title"
      ]
     },
     "metadata": {},
     "output_type": "display_data"
    }
   ],
   "source": [
    "graph2 <- oecd %>%filter(Year>=2005, Year<=2015)%>%filter(Country==c(\"Australia\", \"Austria\", \"Belgium\", \"Canada\", \"Chile\"))\n",
    "ggplot(graph2, aes(x=Year, y=Cost, color=Country)) + geom_line()"
   ]
  },
  {
   "cell_type": "markdown",
   "metadata": {},
   "source": [
    "## Efficiency scores\n",
    "\n",
    "The last assignment is to compute simple effiency scores. We will use the year 2014 for all countries (i.e. the dataframe \"graph1\").\n",
    "Make a new dateframe called \"eff\" (using graph1). Please use the \"pipe\" to execute to following steps:\n",
    "Select all the variables except the NA's (hint: use na.omit) and create a new column called \"Ratio\" with mutate. Ratio is defined as \"Cost/LE\" (cost per output).\n",
    "Create a new column called \"Score\" with mutate. Score is the ratio per country divided by the lowest ratio in the dataframe.\n",
    "To complete this dataframe order the dataset using \"arrange\" based on score (i.e. lowest Score first).\n",
    "\n",
    "\n",
    "Finally make a bar chart using ggplot. Countries should be on the x-axis and \"Score\" on the y-axis. \n",
    "\n",
    "\n",
    "\n",
    "You can earn extra points if you are able to order the graph based on scores (lowest first, highest last), if you are able to make the x-axis readable, make the bar of the Netherlands red and the other bars blue and/or change the name of the y-axis to \"Efficiency scores according to [your name]\" \n",
    "\n",
    "\n",
    "The figure should like this:\n",
    "\n",
    "![My Figure](eff.png)"
   ]
  },
  {
   "cell_type": "code",
   "execution_count": 81,
   "metadata": {
    "collapsed": false
   },
   "outputs": [],
   "source": [
    "eff <- oecd %>%\n",
    "na.omit(eff) %>%\n",
    "mutate(Ratio = Cost/LE) %>%\n",
    "mutate(Score = min(Ratio)/Ratio)%>%\n",
    "arrange(Score)"
   ]
  },
  {
   "cell_type": "code",
   "execution_count": 82,
   "metadata": {
    "collapsed": false
   },
   "outputs": [
    {
     "data": {},
     "metadata": {},
     "output_type": "display_data"
    },
    {
     "data": {
      "image/png": "[encoded data removed]",
      "text/plain": [
       "plot without title"
      ]
     },
     "metadata": {},
     "output_type": "display_data"
    }
   ],
   "source": [
    "ggplot(eff, aes(x = reorder(Country,Score), y = Score, fill = Country)) + \n",
    "geom_bar(stat = \"identity\") + scale_y_continuous(\"Efficiency score according to Xaviera\") + \n",
    "scale_x_discrete(\"Country\") + \n",
    "theme(text = element_text(size=12), axis.text.x=element_text(angle=45, hjust=1)) + \n",
    "scale_fill_manual(values = c(rep(\"blue\",21),rep(\"red\",1),rep(\"blue\",12))) + guides(fill=FALSE)"
   ]
  },
  {
   "cell_type": "code",
   "execution_count": null,
   "metadata": {
    "collapsed": true
   },
   "outputs": [],
   "source": []
  }
 ],
 "metadata": {
  "anaconda-cloud": {},
  "kernelspec": {
   "display_name": "R",
   "language": "R",
   "name": "ir"
  },
  "language_info": {
   "codemirror_mode": "r",
   "file_extension": ".r",
   "mimetype": "text/x-r-source",
   "name": "R",
   "pygments_lexer": "r",
   "version": "3.3.2"
  }
 },
 "nbformat": 4,
 "nbformat_minor": 1
}
